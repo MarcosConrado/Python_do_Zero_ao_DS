{
 "cells": [
  {
   "cell_type": "markdown",
   "metadata": {},
   "source": [
    "# Respondendo as perguntas do CEO\n"
   ]
  },
  {
   "cell_type": "markdown",
   "metadata": {},
   "source": [
    "## Importando módulos e bibliotecas\n"
   ]
  },
  {
   "cell_type": "code",
   "execution_count": 1,
   "metadata": {},
   "outputs": [],
   "source": [
    "import pandas as pd\n",
    "import numpy as np"
   ]
  },
  {
   "cell_type": "markdown",
   "metadata": {},
   "source": [
    "## importando dataset"
   ]
  },
  {
   "cell_type": "code",
   "execution_count": 2,
   "metadata": {},
   "outputs": [],
   "source": [
    "data = pd.read_csv('datasets/kc_house_data.csv')\n"
   ]
  },
  {
   "cell_type": "markdown",
   "metadata": {},
   "source": [
    "## 1- Qual a quantidade de imóveis por nível?\n"
   ]
  },
  {
   "cell_type": "code",
   "execution_count": 3,
   "metadata": {},
   "outputs": [],
   "source": [
    "\n",
    " #nível 0 - preço entre R$ 0.00 e R$ 321.950\n",
    " #nível 1 - preço entre R$ 321.950 e R$ 450.000\n",
    " #nível 2 - preço entre R$ 450.000 e R$ 645.000\n",
    " #nível 3 - preço acima de R$ 645.000\n",
    "\n",
    "#data['nivel'] = NA\n",
    "#data.loc[data[(data['price'] >= 0) & (data['price'] < 321950)], 'nivel'] = 'nivel_0'\n",
    "#data.loc[data[(data['price'] >= 321950) & (data['price'] < 450000)], 'nivel'] = 'nivel_1'\n",
    "#data.loc[data[(data['price'] >= 450000) & (data['price'] < 645000)], 'nivel'] = 'nivel_2'\n",
    "#data.loc[data[(data['price'] >= 645000)], 'nivel'] = 'nivel_3'\n",
    "\n",
    "# Looping FOR\n",
    "for i in range( len( data ) ):\n",
    "    if (data.loc[i, 'price'] >= 0 ) & ( data.loc[i, 'price'] < 321950 ):\n",
    "        data.loc[i, 'nivel'] = 'nivel_0'\n",
    "    \n",
    "    elif (data.loc[i, 'price'] >= 321950 ) & ( data.loc[i, 'price'] < 450000 ):\n",
    "        data.loc[i, 'nivel'] = 'nivel_1'\n",
    "        \n",
    "    elif (data.loc[i, 'price'] >= 450000 ) & ( data.loc[i, 'price'] < 645000 ):\n",
    "        data.loc[i, 'nivel'] = 'nivel_2'\n",
    "        \n",
    "    else: data.loc[i, 'nivel'] = 'nivel_3' \n"
   ]
  },
  {
   "cell_type": "markdown",
   "metadata": {},
   "source": [
    "### 2- Adicione as seguintes informações ao imóvel\n",
    "        - Número da rua\n",
    "        - Número do imóvel\n",
    "        - O nome do Bairro\n",
    "        - O nome da Cidade\n",
    "        - O nome do Estado"
   ]
  },
  {
   "cell_type": "code",
   "execution_count": 4,
   "metadata": {},
   "outputs": [
    {
     "name": "stdout",
     "output_type": "stream",
     "text": [
      "Loop: 0 / 21613\n",
      "Loop: 1 / 21613\n",
      "Loop: 2 / 21613\n",
      "Loop: 3 / 21613\n",
      "Loop: 4 / 21613\n",
      "Loop: 5 / 21613\n",
      "Loop: 6 / 21613\n",
      "Loop: 7 / 21613\n",
      "Loop: 8 / 21613\n",
      "Loop: 9 / 21613\n",
      "Loop: 10 / 21613\n",
      "Loop: 11 / 21613\n",
      "Loop: 12 / 21613\n",
      "Loop: 13 / 21613\n",
      "Loop: 14 / 21613\n",
      "Loop: 15 / 21613\n",
      "Loop: 16 / 21613\n",
      "Loop: 17 / 21613\n",
      "Loop: 18 / 21613\n",
      "Loop: 19 / 21613\n",
      "Loop: 20 / 21613\n",
      "Loop: 21 / 21613\n",
      "Loop: 22 / 21613\n",
      "Loop: 23 / 21613\n",
      "Loop: 24 / 21613\n",
      "Loop: 25 / 21613\n",
      "Loop: 26 / 21613\n",
      "Loop: 27 / 21613\n",
      "Loop: 28 / 21613\n",
      "Loop: 29 / 21613\n",
      "Loop: 30 / 21613\n",
      "Loop: 31 / 21613\n",
      "Loop: 32 / 21613\n",
      "Loop: 33 / 21613\n",
      "Loop: 34 / 21613\n",
      "Loop: 35 / 21613\n",
      "Loop: 36 / 21613\n",
      "Loop: 37 / 21613\n",
      "Loop: 38 / 21613\n",
      "Loop: 39 / 21613\n",
      "Loop: 40 / 21613\n",
      "Loop: 41 / 21613\n",
      "Loop: 42 / 21613\n",
      "Loop: 43 / 21613\n"
     ]
    },
    {
     "ename": "KeyboardInterrupt",
     "evalue": "",
     "output_type": "error",
     "traceback": [
      "\u001b[1;31m---------------------------------------------------------------------------\u001b[0m",
      "\u001b[1;31mKeyboardInterrupt\u001b[0m                         Traceback (most recent call last)",
      "\u001b[1;32m<ipython-input-4-13e0f7b4ba0e>\u001b[0m in \u001b[0;36m<module>\u001b[1;34m\u001b[0m\n\u001b[0;32m     17\u001b[0m     \u001b[0mquery\u001b[0m \u001b[1;33m=\u001b[0m \u001b[0mstr\u001b[0m\u001b[1;33m(\u001b[0m\u001b[0mdata\u001b[0m\u001b[1;33m.\u001b[0m\u001b[0mloc\u001b[0m\u001b[1;33m[\u001b[0m\u001b[0mi\u001b[0m\u001b[1;33m,\u001b[0m\u001b[1;34m'lat'\u001b[0m\u001b[1;33m]\u001b[0m\u001b[1;33m)\u001b[0m \u001b[1;33m+\u001b[0m \u001b[1;34m','\u001b[0m \u001b[1;33m+\u001b[0m \u001b[0mstr\u001b[0m\u001b[1;33m(\u001b[0m\u001b[0mdata\u001b[0m\u001b[1;33m.\u001b[0m\u001b[0mloc\u001b[0m\u001b[1;33m[\u001b[0m\u001b[0mi\u001b[0m\u001b[1;33m,\u001b[0m\u001b[1;34m'long'\u001b[0m\u001b[1;33m]\u001b[0m\u001b[1;33m)\u001b[0m\u001b[1;33m\u001b[0m\u001b[1;33m\u001b[0m\u001b[0m\n\u001b[0;32m     18\u001b[0m     \u001b[1;31m# API request\u001b[0m\u001b[1;33m\u001b[0m\u001b[1;33m\u001b[0m\u001b[1;33m\u001b[0m\u001b[0m\n\u001b[1;32m---> 19\u001b[1;33m     \u001b[0mresponse\u001b[0m \u001b[1;33m=\u001b[0m \u001b[0mgeolocator\u001b[0m\u001b[1;33m.\u001b[0m\u001b[0mreverse\u001b[0m\u001b[1;33m(\u001b[0m \u001b[0mquery\u001b[0m \u001b[1;33m)\u001b[0m\u001b[1;33m\u001b[0m\u001b[1;33m\u001b[0m\u001b[0m\n\u001b[0m\u001b[0;32m     20\u001b[0m \u001b[1;33m\u001b[0m\u001b[0m\n\u001b[0;32m     21\u001b[0m     \u001b[1;31m# populate data\u001b[0m\u001b[1;33m\u001b[0m\u001b[1;33m\u001b[0m\u001b[1;33m\u001b[0m\u001b[0m\n",
      "\u001b[1;32m~\\anaconda3\\lib\\site-packages\\geopy\\geocoders\\nominatim.py\u001b[0m in \u001b[0;36mreverse\u001b[1;34m(self, query, exactly_one, timeout, language, addressdetails, zoom)\u001b[0m\n\u001b[0;32m    360\u001b[0m         \u001b[0mlogger\u001b[0m\u001b[1;33m.\u001b[0m\u001b[0mdebug\u001b[0m\u001b[1;33m(\u001b[0m\u001b[1;34m\"%s.reverse: %s\"\u001b[0m\u001b[1;33m,\u001b[0m \u001b[0mself\u001b[0m\u001b[1;33m.\u001b[0m\u001b[0m__class__\u001b[0m\u001b[1;33m.\u001b[0m\u001b[0m__name__\u001b[0m\u001b[1;33m,\u001b[0m \u001b[0murl\u001b[0m\u001b[1;33m)\u001b[0m\u001b[1;33m\u001b[0m\u001b[1;33m\u001b[0m\u001b[0m\n\u001b[0;32m    361\u001b[0m         \u001b[0mcallback\u001b[0m \u001b[1;33m=\u001b[0m \u001b[0mpartial\u001b[0m\u001b[1;33m(\u001b[0m\u001b[0mself\u001b[0m\u001b[1;33m.\u001b[0m\u001b[0m_parse_json\u001b[0m\u001b[1;33m,\u001b[0m \u001b[0mexactly_one\u001b[0m\u001b[1;33m=\u001b[0m\u001b[0mexactly_one\u001b[0m\u001b[1;33m)\u001b[0m\u001b[1;33m\u001b[0m\u001b[1;33m\u001b[0m\u001b[0m\n\u001b[1;32m--> 362\u001b[1;33m         \u001b[1;32mreturn\u001b[0m \u001b[0mself\u001b[0m\u001b[1;33m.\u001b[0m\u001b[0m_call_geocoder\u001b[0m\u001b[1;33m(\u001b[0m\u001b[0murl\u001b[0m\u001b[1;33m,\u001b[0m \u001b[0mcallback\u001b[0m\u001b[1;33m,\u001b[0m \u001b[0mtimeout\u001b[0m\u001b[1;33m=\u001b[0m\u001b[0mtimeout\u001b[0m\u001b[1;33m)\u001b[0m\u001b[1;33m\u001b[0m\u001b[1;33m\u001b[0m\u001b[0m\n\u001b[0m\u001b[0;32m    363\u001b[0m \u001b[1;33m\u001b[0m\u001b[0m\n\u001b[0;32m    364\u001b[0m     \u001b[1;32mdef\u001b[0m \u001b[0m_parse_code\u001b[0m\u001b[1;33m(\u001b[0m\u001b[0mself\u001b[0m\u001b[1;33m,\u001b[0m \u001b[0mplace\u001b[0m\u001b[1;33m)\u001b[0m\u001b[1;33m:\u001b[0m\u001b[1;33m\u001b[0m\u001b[1;33m\u001b[0m\u001b[0m\n",
      "\u001b[1;32m~\\anaconda3\\lib\\site-packages\\geopy\\geocoders\\base.py\u001b[0m in \u001b[0;36m_call_geocoder\u001b[1;34m(self, url, callback, timeout, is_json, headers)\u001b[0m\n\u001b[0;32m    358\u001b[0m         \u001b[1;32mtry\u001b[0m\u001b[1;33m:\u001b[0m\u001b[1;33m\u001b[0m\u001b[1;33m\u001b[0m\u001b[0m\n\u001b[0;32m    359\u001b[0m             \u001b[1;32mif\u001b[0m \u001b[0mis_json\u001b[0m\u001b[1;33m:\u001b[0m\u001b[1;33m\u001b[0m\u001b[1;33m\u001b[0m\u001b[0m\n\u001b[1;32m--> 360\u001b[1;33m                 \u001b[0mresult\u001b[0m \u001b[1;33m=\u001b[0m \u001b[0mself\u001b[0m\u001b[1;33m.\u001b[0m\u001b[0madapter\u001b[0m\u001b[1;33m.\u001b[0m\u001b[0mget_json\u001b[0m\u001b[1;33m(\u001b[0m\u001b[0murl\u001b[0m\u001b[1;33m,\u001b[0m \u001b[0mtimeout\u001b[0m\u001b[1;33m=\u001b[0m\u001b[0mtimeout\u001b[0m\u001b[1;33m,\u001b[0m \u001b[0mheaders\u001b[0m\u001b[1;33m=\u001b[0m\u001b[0mreq_headers\u001b[0m\u001b[1;33m)\u001b[0m\u001b[1;33m\u001b[0m\u001b[1;33m\u001b[0m\u001b[0m\n\u001b[0m\u001b[0;32m    361\u001b[0m             \u001b[1;32melse\u001b[0m\u001b[1;33m:\u001b[0m\u001b[1;33m\u001b[0m\u001b[1;33m\u001b[0m\u001b[0m\n\u001b[0;32m    362\u001b[0m                 \u001b[0mresult\u001b[0m \u001b[1;33m=\u001b[0m \u001b[0mself\u001b[0m\u001b[1;33m.\u001b[0m\u001b[0madapter\u001b[0m\u001b[1;33m.\u001b[0m\u001b[0mget_text\u001b[0m\u001b[1;33m(\u001b[0m\u001b[0murl\u001b[0m\u001b[1;33m,\u001b[0m \u001b[0mtimeout\u001b[0m\u001b[1;33m=\u001b[0m\u001b[0mtimeout\u001b[0m\u001b[1;33m,\u001b[0m \u001b[0mheaders\u001b[0m\u001b[1;33m=\u001b[0m\u001b[0mreq_headers\u001b[0m\u001b[1;33m)\u001b[0m\u001b[1;33m\u001b[0m\u001b[1;33m\u001b[0m\u001b[0m\n",
      "\u001b[1;32m~\\anaconda3\\lib\\site-packages\\geopy\\adapters.py\u001b[0m in \u001b[0;36mget_json\u001b[1;34m(self, url, timeout, headers)\u001b[0m\n\u001b[0;32m    375\u001b[0m \u001b[1;33m\u001b[0m\u001b[0m\n\u001b[0;32m    376\u001b[0m     \u001b[1;32mdef\u001b[0m \u001b[0mget_json\u001b[0m\u001b[1;33m(\u001b[0m\u001b[0mself\u001b[0m\u001b[1;33m,\u001b[0m \u001b[0murl\u001b[0m\u001b[1;33m,\u001b[0m \u001b[1;33m*\u001b[0m\u001b[1;33m,\u001b[0m \u001b[0mtimeout\u001b[0m\u001b[1;33m,\u001b[0m \u001b[0mheaders\u001b[0m\u001b[1;33m)\u001b[0m\u001b[1;33m:\u001b[0m\u001b[1;33m\u001b[0m\u001b[1;33m\u001b[0m\u001b[0m\n\u001b[1;32m--> 377\u001b[1;33m         \u001b[0mresp\u001b[0m \u001b[1;33m=\u001b[0m \u001b[0mself\u001b[0m\u001b[1;33m.\u001b[0m\u001b[0m_request\u001b[0m\u001b[1;33m(\u001b[0m\u001b[0murl\u001b[0m\u001b[1;33m,\u001b[0m \u001b[0mtimeout\u001b[0m\u001b[1;33m=\u001b[0m\u001b[0mtimeout\u001b[0m\u001b[1;33m,\u001b[0m \u001b[0mheaders\u001b[0m\u001b[1;33m=\u001b[0m\u001b[0mheaders\u001b[0m\u001b[1;33m)\u001b[0m\u001b[1;33m\u001b[0m\u001b[1;33m\u001b[0m\u001b[0m\n\u001b[0m\u001b[0;32m    378\u001b[0m         \u001b[1;32mtry\u001b[0m\u001b[1;33m:\u001b[0m\u001b[1;33m\u001b[0m\u001b[1;33m\u001b[0m\u001b[0m\n\u001b[0;32m    379\u001b[0m             \u001b[1;32mreturn\u001b[0m \u001b[0mresp\u001b[0m\u001b[1;33m.\u001b[0m\u001b[0mjson\u001b[0m\u001b[1;33m(\u001b[0m\u001b[1;33m)\u001b[0m\u001b[1;33m\u001b[0m\u001b[1;33m\u001b[0m\u001b[0m\n",
      "\u001b[1;32m~\\anaconda3\\lib\\site-packages\\geopy\\adapters.py\u001b[0m in \u001b[0;36m_request\u001b[1;34m(self, url, timeout, headers)\u001b[0m\n\u001b[0;32m    385\u001b[0m     \u001b[1;32mdef\u001b[0m \u001b[0m_request\u001b[0m\u001b[1;33m(\u001b[0m\u001b[0mself\u001b[0m\u001b[1;33m,\u001b[0m \u001b[0murl\u001b[0m\u001b[1;33m,\u001b[0m \u001b[1;33m*\u001b[0m\u001b[1;33m,\u001b[0m \u001b[0mtimeout\u001b[0m\u001b[1;33m,\u001b[0m \u001b[0mheaders\u001b[0m\u001b[1;33m)\u001b[0m\u001b[1;33m:\u001b[0m\u001b[1;33m\u001b[0m\u001b[1;33m\u001b[0m\u001b[0m\n\u001b[0;32m    386\u001b[0m         \u001b[1;32mtry\u001b[0m\u001b[1;33m:\u001b[0m\u001b[1;33m\u001b[0m\u001b[1;33m\u001b[0m\u001b[0m\n\u001b[1;32m--> 387\u001b[1;33m             \u001b[0mresp\u001b[0m \u001b[1;33m=\u001b[0m \u001b[0mself\u001b[0m\u001b[1;33m.\u001b[0m\u001b[0msession\u001b[0m\u001b[1;33m.\u001b[0m\u001b[0mget\u001b[0m\u001b[1;33m(\u001b[0m\u001b[0murl\u001b[0m\u001b[1;33m,\u001b[0m \u001b[0mtimeout\u001b[0m\u001b[1;33m=\u001b[0m\u001b[0mtimeout\u001b[0m\u001b[1;33m,\u001b[0m \u001b[0mheaders\u001b[0m\u001b[1;33m=\u001b[0m\u001b[0mheaders\u001b[0m\u001b[1;33m)\u001b[0m\u001b[1;33m\u001b[0m\u001b[1;33m\u001b[0m\u001b[0m\n\u001b[0m\u001b[0;32m    388\u001b[0m         \u001b[1;32mexcept\u001b[0m \u001b[0mException\u001b[0m \u001b[1;32mas\u001b[0m \u001b[0merror\u001b[0m\u001b[1;33m:\u001b[0m\u001b[1;33m\u001b[0m\u001b[1;33m\u001b[0m\u001b[0m\n\u001b[0;32m    389\u001b[0m             \u001b[0mmessage\u001b[0m \u001b[1;33m=\u001b[0m \u001b[0mstr\u001b[0m\u001b[1;33m(\u001b[0m\u001b[0merror\u001b[0m\u001b[1;33m)\u001b[0m\u001b[1;33m\u001b[0m\u001b[1;33m\u001b[0m\u001b[0m\n",
      "\u001b[1;32m~\\anaconda3\\lib\\site-packages\\requests\\sessions.py\u001b[0m in \u001b[0;36mget\u001b[1;34m(self, url, **kwargs)\u001b[0m\n\u001b[0;32m    541\u001b[0m \u001b[1;33m\u001b[0m\u001b[0m\n\u001b[0;32m    542\u001b[0m         \u001b[0mkwargs\u001b[0m\u001b[1;33m.\u001b[0m\u001b[0msetdefault\u001b[0m\u001b[1;33m(\u001b[0m\u001b[1;34m'allow_redirects'\u001b[0m\u001b[1;33m,\u001b[0m \u001b[1;32mTrue\u001b[0m\u001b[1;33m)\u001b[0m\u001b[1;33m\u001b[0m\u001b[1;33m\u001b[0m\u001b[0m\n\u001b[1;32m--> 543\u001b[1;33m         \u001b[1;32mreturn\u001b[0m \u001b[0mself\u001b[0m\u001b[1;33m.\u001b[0m\u001b[0mrequest\u001b[0m\u001b[1;33m(\u001b[0m\u001b[1;34m'GET'\u001b[0m\u001b[1;33m,\u001b[0m \u001b[0murl\u001b[0m\u001b[1;33m,\u001b[0m \u001b[1;33m**\u001b[0m\u001b[0mkwargs\u001b[0m\u001b[1;33m)\u001b[0m\u001b[1;33m\u001b[0m\u001b[1;33m\u001b[0m\u001b[0m\n\u001b[0m\u001b[0;32m    544\u001b[0m \u001b[1;33m\u001b[0m\u001b[0m\n\u001b[0;32m    545\u001b[0m     \u001b[1;32mdef\u001b[0m \u001b[0moptions\u001b[0m\u001b[1;33m(\u001b[0m\u001b[0mself\u001b[0m\u001b[1;33m,\u001b[0m \u001b[0murl\u001b[0m\u001b[1;33m,\u001b[0m \u001b[1;33m**\u001b[0m\u001b[0mkwargs\u001b[0m\u001b[1;33m)\u001b[0m\u001b[1;33m:\u001b[0m\u001b[1;33m\u001b[0m\u001b[1;33m\u001b[0m\u001b[0m\n",
      "\u001b[1;32m~\\anaconda3\\lib\\site-packages\\requests\\sessions.py\u001b[0m in \u001b[0;36mrequest\u001b[1;34m(self, method, url, params, data, headers, cookies, files, auth, timeout, allow_redirects, proxies, hooks, stream, verify, cert, json)\u001b[0m\n\u001b[0;32m    528\u001b[0m         }\n\u001b[0;32m    529\u001b[0m         \u001b[0msend_kwargs\u001b[0m\u001b[1;33m.\u001b[0m\u001b[0mupdate\u001b[0m\u001b[1;33m(\u001b[0m\u001b[0msettings\u001b[0m\u001b[1;33m)\u001b[0m\u001b[1;33m\u001b[0m\u001b[1;33m\u001b[0m\u001b[0m\n\u001b[1;32m--> 530\u001b[1;33m         \u001b[0mresp\u001b[0m \u001b[1;33m=\u001b[0m \u001b[0mself\u001b[0m\u001b[1;33m.\u001b[0m\u001b[0msend\u001b[0m\u001b[1;33m(\u001b[0m\u001b[0mprep\u001b[0m\u001b[1;33m,\u001b[0m \u001b[1;33m**\u001b[0m\u001b[0msend_kwargs\u001b[0m\u001b[1;33m)\u001b[0m\u001b[1;33m\u001b[0m\u001b[1;33m\u001b[0m\u001b[0m\n\u001b[0m\u001b[0;32m    531\u001b[0m \u001b[1;33m\u001b[0m\u001b[0m\n\u001b[0;32m    532\u001b[0m         \u001b[1;32mreturn\u001b[0m \u001b[0mresp\u001b[0m\u001b[1;33m\u001b[0m\u001b[1;33m\u001b[0m\u001b[0m\n",
      "\u001b[1;32m~\\anaconda3\\lib\\site-packages\\requests\\sessions.py\u001b[0m in \u001b[0;36msend\u001b[1;34m(self, request, **kwargs)\u001b[0m\n\u001b[0;32m    641\u001b[0m \u001b[1;33m\u001b[0m\u001b[0m\n\u001b[0;32m    642\u001b[0m         \u001b[1;31m# Send the request\u001b[0m\u001b[1;33m\u001b[0m\u001b[1;33m\u001b[0m\u001b[1;33m\u001b[0m\u001b[0m\n\u001b[1;32m--> 643\u001b[1;33m         \u001b[0mr\u001b[0m \u001b[1;33m=\u001b[0m \u001b[0madapter\u001b[0m\u001b[1;33m.\u001b[0m\u001b[0msend\u001b[0m\u001b[1;33m(\u001b[0m\u001b[0mrequest\u001b[0m\u001b[1;33m,\u001b[0m \u001b[1;33m**\u001b[0m\u001b[0mkwargs\u001b[0m\u001b[1;33m)\u001b[0m\u001b[1;33m\u001b[0m\u001b[1;33m\u001b[0m\u001b[0m\n\u001b[0m\u001b[0;32m    644\u001b[0m \u001b[1;33m\u001b[0m\u001b[0m\n\u001b[0;32m    645\u001b[0m         \u001b[1;31m# Total elapsed time of the request (approximately)\u001b[0m\u001b[1;33m\u001b[0m\u001b[1;33m\u001b[0m\u001b[1;33m\u001b[0m\u001b[0m\n",
      "\u001b[1;32m~\\anaconda3\\lib\\site-packages\\requests\\adapters.py\u001b[0m in \u001b[0;36msend\u001b[1;34m(self, request, stream, timeout, verify, cert, proxies)\u001b[0m\n\u001b[0;32m    437\u001b[0m         \u001b[1;32mtry\u001b[0m\u001b[1;33m:\u001b[0m\u001b[1;33m\u001b[0m\u001b[1;33m\u001b[0m\u001b[0m\n\u001b[0;32m    438\u001b[0m             \u001b[1;32mif\u001b[0m \u001b[1;32mnot\u001b[0m \u001b[0mchunked\u001b[0m\u001b[1;33m:\u001b[0m\u001b[1;33m\u001b[0m\u001b[1;33m\u001b[0m\u001b[0m\n\u001b[1;32m--> 439\u001b[1;33m                 resp = conn.urlopen(\n\u001b[0m\u001b[0;32m    440\u001b[0m                     \u001b[0mmethod\u001b[0m\u001b[1;33m=\u001b[0m\u001b[0mrequest\u001b[0m\u001b[1;33m.\u001b[0m\u001b[0mmethod\u001b[0m\u001b[1;33m,\u001b[0m\u001b[1;33m\u001b[0m\u001b[1;33m\u001b[0m\u001b[0m\n\u001b[0;32m    441\u001b[0m                     \u001b[0murl\u001b[0m\u001b[1;33m=\u001b[0m\u001b[0murl\u001b[0m\u001b[1;33m,\u001b[0m\u001b[1;33m\u001b[0m\u001b[1;33m\u001b[0m\u001b[0m\n",
      "\u001b[1;32m~\\anaconda3\\lib\\site-packages\\urllib3\\connectionpool.py\u001b[0m in \u001b[0;36murlopen\u001b[1;34m(self, method, url, body, headers, retries, redirect, assert_same_host, timeout, pool_timeout, release_conn, chunked, body_pos, **response_kw)\u001b[0m\n\u001b[0;32m    668\u001b[0m \u001b[1;33m\u001b[0m\u001b[0m\n\u001b[0;32m    669\u001b[0m             \u001b[1;31m# Make the request on the httplib connection object.\u001b[0m\u001b[1;33m\u001b[0m\u001b[1;33m\u001b[0m\u001b[1;33m\u001b[0m\u001b[0m\n\u001b[1;32m--> 670\u001b[1;33m             httplib_response = self._make_request(\n\u001b[0m\u001b[0;32m    671\u001b[0m                 \u001b[0mconn\u001b[0m\u001b[1;33m,\u001b[0m\u001b[1;33m\u001b[0m\u001b[1;33m\u001b[0m\u001b[0m\n\u001b[0;32m    672\u001b[0m                 \u001b[0mmethod\u001b[0m\u001b[1;33m,\u001b[0m\u001b[1;33m\u001b[0m\u001b[1;33m\u001b[0m\u001b[0m\n",
      "\u001b[1;32m~\\anaconda3\\lib\\site-packages\\urllib3\\connectionpool.py\u001b[0m in \u001b[0;36m_make_request\u001b[1;34m(self, conn, method, url, timeout, chunked, **httplib_request_kw)\u001b[0m\n\u001b[0;32m    424\u001b[0m                     \u001b[1;31m# Python 3 (including for exceptions like SystemExit).\u001b[0m\u001b[1;33m\u001b[0m\u001b[1;33m\u001b[0m\u001b[1;33m\u001b[0m\u001b[0m\n\u001b[0;32m    425\u001b[0m                     \u001b[1;31m# Otherwise it looks like a bug in the code.\u001b[0m\u001b[1;33m\u001b[0m\u001b[1;33m\u001b[0m\u001b[1;33m\u001b[0m\u001b[0m\n\u001b[1;32m--> 426\u001b[1;33m                     \u001b[0msix\u001b[0m\u001b[1;33m.\u001b[0m\u001b[0mraise_from\u001b[0m\u001b[1;33m(\u001b[0m\u001b[0me\u001b[0m\u001b[1;33m,\u001b[0m \u001b[1;32mNone\u001b[0m\u001b[1;33m)\u001b[0m\u001b[1;33m\u001b[0m\u001b[1;33m\u001b[0m\u001b[0m\n\u001b[0m\u001b[0;32m    427\u001b[0m         \u001b[1;32mexcept\u001b[0m \u001b[1;33m(\u001b[0m\u001b[0mSocketTimeout\u001b[0m\u001b[1;33m,\u001b[0m \u001b[0mBaseSSLError\u001b[0m\u001b[1;33m,\u001b[0m \u001b[0mSocketError\u001b[0m\u001b[1;33m)\u001b[0m \u001b[1;32mas\u001b[0m \u001b[0me\u001b[0m\u001b[1;33m:\u001b[0m\u001b[1;33m\u001b[0m\u001b[1;33m\u001b[0m\u001b[0m\n\u001b[0;32m    428\u001b[0m             \u001b[0mself\u001b[0m\u001b[1;33m.\u001b[0m\u001b[0m_raise_timeout\u001b[0m\u001b[1;33m(\u001b[0m\u001b[0merr\u001b[0m\u001b[1;33m=\u001b[0m\u001b[0me\u001b[0m\u001b[1;33m,\u001b[0m \u001b[0murl\u001b[0m\u001b[1;33m=\u001b[0m\u001b[0murl\u001b[0m\u001b[1;33m,\u001b[0m \u001b[0mtimeout_value\u001b[0m\u001b[1;33m=\u001b[0m\u001b[0mread_timeout\u001b[0m\u001b[1;33m)\u001b[0m\u001b[1;33m\u001b[0m\u001b[1;33m\u001b[0m\u001b[0m\n",
      "\u001b[1;32m~\\anaconda3\\lib\\site-packages\\urllib3\\packages\\six.py\u001b[0m in \u001b[0;36mraise_from\u001b[1;34m(value, from_value)\u001b[0m\n",
      "\u001b[1;32m~\\anaconda3\\lib\\site-packages\\urllib3\\connectionpool.py\u001b[0m in \u001b[0;36m_make_request\u001b[1;34m(self, conn, method, url, timeout, chunked, **httplib_request_kw)\u001b[0m\n\u001b[0;32m    419\u001b[0m                 \u001b[1;31m# Python 3\u001b[0m\u001b[1;33m\u001b[0m\u001b[1;33m\u001b[0m\u001b[1;33m\u001b[0m\u001b[0m\n\u001b[0;32m    420\u001b[0m                 \u001b[1;32mtry\u001b[0m\u001b[1;33m:\u001b[0m\u001b[1;33m\u001b[0m\u001b[1;33m\u001b[0m\u001b[0m\n\u001b[1;32m--> 421\u001b[1;33m                     \u001b[0mhttplib_response\u001b[0m \u001b[1;33m=\u001b[0m \u001b[0mconn\u001b[0m\u001b[1;33m.\u001b[0m\u001b[0mgetresponse\u001b[0m\u001b[1;33m(\u001b[0m\u001b[1;33m)\u001b[0m\u001b[1;33m\u001b[0m\u001b[1;33m\u001b[0m\u001b[0m\n\u001b[0m\u001b[0;32m    422\u001b[0m                 \u001b[1;32mexcept\u001b[0m \u001b[0mBaseException\u001b[0m \u001b[1;32mas\u001b[0m \u001b[0me\u001b[0m\u001b[1;33m:\u001b[0m\u001b[1;33m\u001b[0m\u001b[1;33m\u001b[0m\u001b[0m\n\u001b[0;32m    423\u001b[0m                     \u001b[1;31m# Remove the TypeError from the exception chain in\u001b[0m\u001b[1;33m\u001b[0m\u001b[1;33m\u001b[0m\u001b[1;33m\u001b[0m\u001b[0m\n",
      "\u001b[1;32m~\\anaconda3\\lib\\http\\client.py\u001b[0m in \u001b[0;36mgetresponse\u001b[1;34m(self)\u001b[0m\n\u001b[0;32m   1345\u001b[0m         \u001b[1;32mtry\u001b[0m\u001b[1;33m:\u001b[0m\u001b[1;33m\u001b[0m\u001b[1;33m\u001b[0m\u001b[0m\n\u001b[0;32m   1346\u001b[0m             \u001b[1;32mtry\u001b[0m\u001b[1;33m:\u001b[0m\u001b[1;33m\u001b[0m\u001b[1;33m\u001b[0m\u001b[0m\n\u001b[1;32m-> 1347\u001b[1;33m                 \u001b[0mresponse\u001b[0m\u001b[1;33m.\u001b[0m\u001b[0mbegin\u001b[0m\u001b[1;33m(\u001b[0m\u001b[1;33m)\u001b[0m\u001b[1;33m\u001b[0m\u001b[1;33m\u001b[0m\u001b[0m\n\u001b[0m\u001b[0;32m   1348\u001b[0m             \u001b[1;32mexcept\u001b[0m \u001b[0mConnectionError\u001b[0m\u001b[1;33m:\u001b[0m\u001b[1;33m\u001b[0m\u001b[1;33m\u001b[0m\u001b[0m\n\u001b[0;32m   1349\u001b[0m                 \u001b[0mself\u001b[0m\u001b[1;33m.\u001b[0m\u001b[0mclose\u001b[0m\u001b[1;33m(\u001b[0m\u001b[1;33m)\u001b[0m\u001b[1;33m\u001b[0m\u001b[1;33m\u001b[0m\u001b[0m\n",
      "\u001b[1;32m~\\anaconda3\\lib\\http\\client.py\u001b[0m in \u001b[0;36mbegin\u001b[1;34m(self)\u001b[0m\n\u001b[0;32m    305\u001b[0m         \u001b[1;31m# read until we get a non-100 response\u001b[0m\u001b[1;33m\u001b[0m\u001b[1;33m\u001b[0m\u001b[1;33m\u001b[0m\u001b[0m\n\u001b[0;32m    306\u001b[0m         \u001b[1;32mwhile\u001b[0m \u001b[1;32mTrue\u001b[0m\u001b[1;33m:\u001b[0m\u001b[1;33m\u001b[0m\u001b[1;33m\u001b[0m\u001b[0m\n\u001b[1;32m--> 307\u001b[1;33m             \u001b[0mversion\u001b[0m\u001b[1;33m,\u001b[0m \u001b[0mstatus\u001b[0m\u001b[1;33m,\u001b[0m \u001b[0mreason\u001b[0m \u001b[1;33m=\u001b[0m \u001b[0mself\u001b[0m\u001b[1;33m.\u001b[0m\u001b[0m_read_status\u001b[0m\u001b[1;33m(\u001b[0m\u001b[1;33m)\u001b[0m\u001b[1;33m\u001b[0m\u001b[1;33m\u001b[0m\u001b[0m\n\u001b[0m\u001b[0;32m    308\u001b[0m             \u001b[1;32mif\u001b[0m \u001b[0mstatus\u001b[0m \u001b[1;33m!=\u001b[0m \u001b[0mCONTINUE\u001b[0m\u001b[1;33m:\u001b[0m\u001b[1;33m\u001b[0m\u001b[1;33m\u001b[0m\u001b[0m\n\u001b[0;32m    309\u001b[0m                 \u001b[1;32mbreak\u001b[0m\u001b[1;33m\u001b[0m\u001b[1;33m\u001b[0m\u001b[0m\n",
      "\u001b[1;32m~\\anaconda3\\lib\\http\\client.py\u001b[0m in \u001b[0;36m_read_status\u001b[1;34m(self)\u001b[0m\n\u001b[0;32m    266\u001b[0m \u001b[1;33m\u001b[0m\u001b[0m\n\u001b[0;32m    267\u001b[0m     \u001b[1;32mdef\u001b[0m \u001b[0m_read_status\u001b[0m\u001b[1;33m(\u001b[0m\u001b[0mself\u001b[0m\u001b[1;33m)\u001b[0m\u001b[1;33m:\u001b[0m\u001b[1;33m\u001b[0m\u001b[1;33m\u001b[0m\u001b[0m\n\u001b[1;32m--> 268\u001b[1;33m         \u001b[0mline\u001b[0m \u001b[1;33m=\u001b[0m \u001b[0mstr\u001b[0m\u001b[1;33m(\u001b[0m\u001b[0mself\u001b[0m\u001b[1;33m.\u001b[0m\u001b[0mfp\u001b[0m\u001b[1;33m.\u001b[0m\u001b[0mreadline\u001b[0m\u001b[1;33m(\u001b[0m\u001b[0m_MAXLINE\u001b[0m \u001b[1;33m+\u001b[0m \u001b[1;36m1\u001b[0m\u001b[1;33m)\u001b[0m\u001b[1;33m,\u001b[0m \u001b[1;34m\"iso-8859-1\"\u001b[0m\u001b[1;33m)\u001b[0m\u001b[1;33m\u001b[0m\u001b[1;33m\u001b[0m\u001b[0m\n\u001b[0m\u001b[0;32m    269\u001b[0m         \u001b[1;32mif\u001b[0m \u001b[0mlen\u001b[0m\u001b[1;33m(\u001b[0m\u001b[0mline\u001b[0m\u001b[1;33m)\u001b[0m \u001b[1;33m>\u001b[0m \u001b[0m_MAXLINE\u001b[0m\u001b[1;33m:\u001b[0m\u001b[1;33m\u001b[0m\u001b[1;33m\u001b[0m\u001b[0m\n\u001b[0;32m    270\u001b[0m             \u001b[1;32mraise\u001b[0m \u001b[0mLineTooLong\u001b[0m\u001b[1;33m(\u001b[0m\u001b[1;34m\"status line\"\u001b[0m\u001b[1;33m)\u001b[0m\u001b[1;33m\u001b[0m\u001b[1;33m\u001b[0m\u001b[0m\n",
      "\u001b[1;32m~\\anaconda3\\lib\\socket.py\u001b[0m in \u001b[0;36mreadinto\u001b[1;34m(self, b)\u001b[0m\n\u001b[0;32m    667\u001b[0m         \u001b[1;32mwhile\u001b[0m \u001b[1;32mTrue\u001b[0m\u001b[1;33m:\u001b[0m\u001b[1;33m\u001b[0m\u001b[1;33m\u001b[0m\u001b[0m\n\u001b[0;32m    668\u001b[0m             \u001b[1;32mtry\u001b[0m\u001b[1;33m:\u001b[0m\u001b[1;33m\u001b[0m\u001b[1;33m\u001b[0m\u001b[0m\n\u001b[1;32m--> 669\u001b[1;33m                 \u001b[1;32mreturn\u001b[0m \u001b[0mself\u001b[0m\u001b[1;33m.\u001b[0m\u001b[0m_sock\u001b[0m\u001b[1;33m.\u001b[0m\u001b[0mrecv_into\u001b[0m\u001b[1;33m(\u001b[0m\u001b[0mb\u001b[0m\u001b[1;33m)\u001b[0m\u001b[1;33m\u001b[0m\u001b[1;33m\u001b[0m\u001b[0m\n\u001b[0m\u001b[0;32m    670\u001b[0m             \u001b[1;32mexcept\u001b[0m \u001b[0mtimeout\u001b[0m\u001b[1;33m:\u001b[0m\u001b[1;33m\u001b[0m\u001b[1;33m\u001b[0m\u001b[0m\n\u001b[0;32m    671\u001b[0m                 \u001b[0mself\u001b[0m\u001b[1;33m.\u001b[0m\u001b[0m_timeout_occurred\u001b[0m \u001b[1;33m=\u001b[0m \u001b[1;32mTrue\u001b[0m\u001b[1;33m\u001b[0m\u001b[1;33m\u001b[0m\u001b[0m\n",
      "\u001b[1;32m~\\anaconda3\\lib\\ssl.py\u001b[0m in \u001b[0;36mrecv_into\u001b[1;34m(self, buffer, nbytes, flags)\u001b[0m\n\u001b[0;32m   1239\u001b[0m                   \u001b[1;34m\"non-zero flags not allowed in calls to recv_into() on %s\"\u001b[0m \u001b[1;33m%\u001b[0m\u001b[1;33m\u001b[0m\u001b[1;33m\u001b[0m\u001b[0m\n\u001b[0;32m   1240\u001b[0m                   self.__class__)\n\u001b[1;32m-> 1241\u001b[1;33m             \u001b[1;32mreturn\u001b[0m \u001b[0mself\u001b[0m\u001b[1;33m.\u001b[0m\u001b[0mread\u001b[0m\u001b[1;33m(\u001b[0m\u001b[0mnbytes\u001b[0m\u001b[1;33m,\u001b[0m \u001b[0mbuffer\u001b[0m\u001b[1;33m)\u001b[0m\u001b[1;33m\u001b[0m\u001b[1;33m\u001b[0m\u001b[0m\n\u001b[0m\u001b[0;32m   1242\u001b[0m         \u001b[1;32melse\u001b[0m\u001b[1;33m:\u001b[0m\u001b[1;33m\u001b[0m\u001b[1;33m\u001b[0m\u001b[0m\n\u001b[0;32m   1243\u001b[0m             \u001b[1;32mreturn\u001b[0m \u001b[0msuper\u001b[0m\u001b[1;33m(\u001b[0m\u001b[1;33m)\u001b[0m\u001b[1;33m.\u001b[0m\u001b[0mrecv_into\u001b[0m\u001b[1;33m(\u001b[0m\u001b[0mbuffer\u001b[0m\u001b[1;33m,\u001b[0m \u001b[0mnbytes\u001b[0m\u001b[1;33m,\u001b[0m \u001b[0mflags\u001b[0m\u001b[1;33m)\u001b[0m\u001b[1;33m\u001b[0m\u001b[1;33m\u001b[0m\u001b[0m\n",
      "\u001b[1;32m~\\anaconda3\\lib\\ssl.py\u001b[0m in \u001b[0;36mread\u001b[1;34m(self, len, buffer)\u001b[0m\n\u001b[0;32m   1097\u001b[0m         \u001b[1;32mtry\u001b[0m\u001b[1;33m:\u001b[0m\u001b[1;33m\u001b[0m\u001b[1;33m\u001b[0m\u001b[0m\n\u001b[0;32m   1098\u001b[0m             \u001b[1;32mif\u001b[0m \u001b[0mbuffer\u001b[0m \u001b[1;32mis\u001b[0m \u001b[1;32mnot\u001b[0m \u001b[1;32mNone\u001b[0m\u001b[1;33m:\u001b[0m\u001b[1;33m\u001b[0m\u001b[1;33m\u001b[0m\u001b[0m\n\u001b[1;32m-> 1099\u001b[1;33m                 \u001b[1;32mreturn\u001b[0m \u001b[0mself\u001b[0m\u001b[1;33m.\u001b[0m\u001b[0m_sslobj\u001b[0m\u001b[1;33m.\u001b[0m\u001b[0mread\u001b[0m\u001b[1;33m(\u001b[0m\u001b[0mlen\u001b[0m\u001b[1;33m,\u001b[0m \u001b[0mbuffer\u001b[0m\u001b[1;33m)\u001b[0m\u001b[1;33m\u001b[0m\u001b[1;33m\u001b[0m\u001b[0m\n\u001b[0m\u001b[0;32m   1100\u001b[0m             \u001b[1;32melse\u001b[0m\u001b[1;33m:\u001b[0m\u001b[1;33m\u001b[0m\u001b[1;33m\u001b[0m\u001b[0m\n\u001b[0;32m   1101\u001b[0m                 \u001b[1;32mreturn\u001b[0m \u001b[0mself\u001b[0m\u001b[1;33m.\u001b[0m\u001b[0m_sslobj\u001b[0m\u001b[1;33m.\u001b[0m\u001b[0mread\u001b[0m\u001b[1;33m(\u001b[0m\u001b[0mlen\u001b[0m\u001b[1;33m)\u001b[0m\u001b[1;33m\u001b[0m\u001b[1;33m\u001b[0m\u001b[0m\n",
      "\u001b[1;31mKeyboardInterrupt\u001b[0m: "
     ]
    }
   ],
   "source": [
    "# Create empty rows\n",
    "data['house_number'] = 'NA'\n",
    "data['road'] = 'NA'\n",
    "data['city'] = 'NA'\n",
    "data['state'] = 'NA'\n",
    "data['county'] = 'NA'\n",
    "\n",
    "# Import to library GEOPY.GEOCODERS\n",
    "from geopy.geocoders import Nominatim\n",
    "\n",
    "# Initializer Nominatim API\n",
    "geolocator = Nominatim( user_agent='geoapiExercises')\n",
    "    \n",
    "for i in range( len( data) ):\n",
    "    print('Loop: {} / {}'.format(i, len( data ) ))\n",
    "    # make query\n",
    "    query = str(data.loc[i,'lat']) + ',' + str(data.loc[i,'long'])\n",
    "    # API request\n",
    "    response = geolocator.reverse( query )\n",
    "    \n",
    "    # populate data\n",
    "    if 'road' in response.raw['address']:\n",
    "        data.loc[i, 'road']          = response.raw['address']['road']\n",
    "        \n",
    "    if 'house_number' in response.raw['address']:\n",
    "        data.loc[i, 'house_number']  = response.raw['address']['house_number']\n",
    "        \n",
    "    if 'neighbourhood' in response.raw['address']:\n",
    "        data.loc[i, 'neighbourhood'] = response.raw['address']['neighbourhood']\n",
    "        \n",
    "    if 'city' in response.raw['address']:\n",
    "        data.loc[i, 'city']          = response.raw['address']['city']\n",
    "        \n",
    "    if 'county' in response.raw['address']:\n",
    "        data.loc[i, 'county']        = response.raw['address']['county']\n",
    "        \n",
    "    if 'state' in response.raw['address']:\n",
    "        data.loc[i, 'state']         = response.raw['address']['state']\n"
   ]
  },
  {
   "cell_type": "markdown",
   "metadata": {},
   "source": [
    "## 3) Faça um mapa com os imóveis que se diferenciem de preço pela cor"
   ]
  },
  {
   "cell_type": "code",
   "execution_count": null,
   "metadata": {},
   "outputs": [],
   "source": [
    "# import library/modules\n",
    "import plotly.express as px\n",
    "import pandas as pd\n",
    "import numpy as np\n",
    "\n",
    "# import datasets\n",
    "data = pd.read_csv('datasets/kc_house_data.csv')"
   ]
  },
  {
   "cell_type": "code",
   "execution_count": null,
   "metadata": {},
   "outputs": [],
   "source": [
    "houses = data[['id', 'lat', 'long', 'price']].copy()\n",
    "\n",
    "# define level\n",
    "for i in range( len( houses ) ):\n",
    "    if houses.loc[i, 'price'] <= 321950:\n",
    "        houses.loc[i, 'level'] = 0\n",
    "        \n",
    "    elif (houses.loc[i, 'price'] > 321950) & (houses.loc[i, 'price'] <= 450000):\n",
    "        houses.loc[i, 'level'] = 1\n",
    "        \n",
    "    elif (houses.loc[i, 'price'] > 450000) & (houses.loc[i, 'price'] <= 645000):\n",
    "        houses.loc[i, 'level'] = 2\n",
    "        \n",
    "    else: houses.loc[i, 'level'] = 3\n",
    "        \n",
    "houses['level'] = houses['level'].astype( int )\n",
    "\n",
    "fig = px.scatter_mapbox( houses,\n",
    "                         lat='lat',\n",
    "                         lon='long',\n",
    "                         color='level',\n",
    "                         size='price',\n",
    "                         color_continuous_scale=px.colors.cyclical.IceFire,\n",
    "                         size_max=15,\n",
    "                         zoom=10 )\n",
    "fig.update_layout( mapbox_style='open-street-map')\n",
    "fig.update_layout( height=600, margin={'r':0, 't':0, 'l':0, 'b':0})\n",
    "fig.show()                  "
   ]
  },
  {
   "cell_type": "markdown",
   "metadata": {},
   "source": [
    "## 4) Adicione opção de filtros para eu poder fazer minhas própias análises.\n",
    "   - Eu quero Escolher visualisar imóveis com vista para água ou não.\n",
    "   - Eu quero escolher filtrar imóveis até um certo valor de preço."
   ]
  },
  {
   "cell_type": "code",
   "execution_count": null,
   "metadata": {},
   "outputs": [],
   "source": [
    "import pandas as pd\n",
    "import ipywidgets as widgets\n",
    "from ipywidgets import fixed\n",
    "import plotly.express as px\n",
    "import matplotlib.pyplot as plt"
   ]
  },
  {
   "cell_type": "code",
   "execution_count": null,
   "metadata": {},
   "outputs": [],
   "source": [
    "df = pd.read_csv('datasets/kc_house_data.csv')\n",
    "\n",
    "df['is_waterfront'] = df['waterfront'].apply( lambda x: 'yes' if x == 1 else 'no' )\n",
    "df['level'] = df['price'].apply( lambda x: 0 if x < 321950 else\n",
    "                                           1 if ( x > 321950 ) & ( x < 450000 ) else\n",
    "                                           2 if ( x > 450000 ) & ( x < 645000 ) else 3 )\n",
    "\n",
    "df['level'] = df['level'].astype( int )\n",
    "style = { 'description_width': 'initial' }\n",
    "\n",
    "# interative buttons\n",
    "price_limit = widgets.IntSlider(\n",
    "    value = 540000,\n",
    "    min = 75000,\n",
    "    max = 7700000,\n",
    "    step = 1,\n",
    "    description = 'Maximum Price',\n",
    "    disable = False,\n",
    "    style = style \n",
    ")\n",
    "\n",
    "waterfront_bar = widgets.Dropdown( \n",
    "    options = df['is_waterfront'].unique().tolist(),\n",
    "    value = 'yes',\n",
    "    description = 'Water View',\n",
    "    disable = False )\n",
    "\n",
    "def update_map( df, waterfront, limit ):\n",
    "    houses = df[( df['price'] <= limit ) & ( df['is_waterfront'] == waterfront )][['id', 'lat', 'long', 'price', 'level']]\n",
    "    \n",
    "    fig = px.scatter_mapbox( houses,\n",
    "                             lat='lat',\n",
    "                             lon='long',\n",
    "                             color='level',\n",
    "                             size='price',\n",
    "                             color_continuous_scale=px.colors.cyclical.IceFire,\n",
    "                             size_max=15,\n",
    "                             zoom=10 )\n",
    "    fig.update_layout( mapbox_style='open-street-map')\n",
    "    fig.update_layout( height=600, margin={'r':0, 't':0, 'l':0, 'b':0})\n",
    "    fig.show()                      "
   ]
  },
  {
   "cell_type": "markdown",
   "metadata": {
    "scrolled": false
   },
   "source": [
    "## 5) Iteratividade com o Dashboard"
   ]
  },
  {
   "cell_type": "code",
   "execution_count": null,
   "metadata": {},
   "outputs": [],
   "source": [
    "# importando módulos/bibliotecas\n",
    "import ipywidgets as widgets\n",
    "from matplotlib import gridspec\n",
    "from matplotlib import pyplot as plt\n",
    "import numpy as np\n",
    "from ipywidgets import fixed\n",
    "import pandas as pd"
   ]
  },
  {
   "cell_type": "code",
   "execution_count": null,
   "metadata": {},
   "outputs": [],
   "source": [
    "# prepare dataset\n",
    "df = pd.read_csv('datasets/kc_house_data.csv')\n",
    "\n",
    "# change date format\n",
    "df['year'] = pd.to_datetime( df['date'] ).dt.strftime( '%Y')\n",
    "df['date'] = pd.to_datetime( df['date'] ).dt.strftime( '%Y-%m-%d')\n",
    "df['year_week'] = pd.to_datetime( df['date'] ).dt.strftime( '%Y-%U')\n",
    "\n",
    "# widgets to control data\n",
    "date_limit = widgets.SelectionSlider(\n",
    "    options = df['date'].sort_values().unique().tolist(),\n",
    "    value = '2014-12-01',\n",
    "    description = 'Disponível',\n",
    "    continuous_update = False,\n",
    "    orientation = 'horizontal',\n",
    "    readout = True ) \n",
    "\n",
    "def update_map( df, limit ):\n",
    "    #filter df\n",
    "    df = df[df['date'] >= limit ].copy()\n",
    "    \n",
    "    fig = plt.figure( figsize = ( 21, 12) )\n",
    "    specs = gridspec.GridSpec( ncols = 2, nrows = 2, figure = fig )\n",
    "    \n",
    "    ax1 = fig.add_subplot( specs[ 0, : ] ) # first rows\n",
    "    ax2 = fig.add_subplot( specs[ 1, 0 ] ) # second rows and first column\n",
    "    ax3 = fig.add_subplot( specs[ 1, 1 ] ) # second rows and second column\n",
    "    \n",
    "    by_year = df[['id', 'year']].groupby( 'year' ).sum().reset_index()\n",
    "    ax1.bar( by_year['year'], by_year['id'] )\n",
    "    \n",
    "    by_day = df[['id', 'date']].groupby( 'date' ).mean().reset_index()\n",
    "    ax2.plot( by_day['date'], by_day['id'] )\n",
    "    ax2.set_title( 'title = Avg Price by Day' )\n",
    "    \n",
    "    by_week_of_year = df[['id', 'year_week']].groupby( 'year_week' ).mean().reset_index()\n",
    "    ax3.bar( by_week_of_year['year_week'], by_week_of_year['id'] )\n",
    "    ax3.set_title( 'title = Avg Price by Week Of Year' )\n",
    "    plt.xticks( rotation = 60 ) ; \n",
    "    \n",
    "    "
   ]
  },
  {
   "cell_type": "code",
   "execution_count": null,
   "metadata": {},
   "outputs": [],
   "source": [
    "widgets.interact( update_map, df = fixed( df ), limit = date_limit )"
   ]
  },
  {
   "cell_type": "markdown",
   "metadata": {},
   "source": [
    "# Novas perguntas do CEO para você."
   ]
  },
  {
   "cell_type": "markdown",
   "metadata": {},
   "source": [
    "## 1. Qual a média de preço de compras dos imóveis por \"nivel\" ?\n",
    "    - nível 0 -> preço entre R$ 0 e R$ 321.950\n",
    "    - nível 1 -> preço entre R$ 321.950 e R$ 450.000\n",
    "    - nível 2 -> preço entre R$ 450.000 e R$ 645.000\n",
    "    - nível 3 -> preço acima de 645.000"
   ]
  },
  {
   "cell_type": "code",
   "execution_count": null,
   "metadata": {},
   "outputs": [],
   "source": [
    "#import modules/librarys\n",
    "import pandas as pd\n",
    "\n",
    "# import dataset\n",
    "df = pd.read_csv('datasets/kc_house_data.csv')"
   ]
  },
  {
   "cell_type": "code",
   "execution_count": null,
   "metadata": {},
   "outputs": [],
   "source": [
    "df['nivel'] = df['price'].apply( lambda x: 0 if x < 321950 else\n",
    "                                           1 if ( x >= 321950 ) & ( x < 450000 ) else\n",
    "                                           2 if ( x >= 450000 ) & ( x < 645000 ) else 3 )\n",
    "df['nivel'] = df['nivel'].astype( int )\n",
    "print( df[['nivel', 'price']].groupby( 'nivel' ).mean().reset_index().round(2) )"
   ]
  },
  {
   "cell_type": "markdown",
   "metadata": {},
   "source": [
    "## 2. Qual a média do tamanho da sala de estar dos imóveis por “Size” ?\n",
    "- Size 0 -> Tamanho entre 0 e 1427 sqft\n",
    "- Size 1 -> Tamanho entre 1427 e 1910 sqft\n",
    "- Size 2 -> Tamanho entre 1910 e 2550 sqft\n",
    "- Size 3 -> Tamanho acima de 2550 sqft"
   ]
  },
  {
   "cell_type": "code",
   "execution_count": null,
   "metadata": {},
   "outputs": [],
   "source": [
    "df['size'] = df['sqft_living'].apply( lambda x: 0 if x < 1427 else\n",
    "                                                1 if ( x >= 1427 ) & ( x < 1910 ) else\n",
    "                                                2 if ( x >= 1910 ) & ( x < 2550 ) else 3 )\n",
    "df['size'] = df['size'].astype( int )\n",
    "df[['sqft_living', 'size']].groupby( 'size' ).mean().reset_index().round( 2 )"
   ]
  },
  {
   "cell_type": "markdown",
   "metadata": {},
   "source": [
    "## 3. Adicione as seguinte informações ao conjunto de dados original:\n",
    "- Place ID: Identificação da localização\n",
    "- OSM Type: Open Street Map type\n",
    "- Country: Nome do País\n",
    "- Country Code: Código do País"
   ]
  },
  {
   "cell_type": "code",
   "execution_count": 10,
   "metadata": {},
   "outputs": [
    {
     "name": "stdout",
     "output_type": "stream",
     "text": [
      "Time Elapsed: {} 20.953125\n"
     ]
    }
   ],
   "source": [
    "# import modules\n",
    "import pandas as pd\n",
    "import time\n",
    "from multiprocessing import Pool\n",
    "import defs\n",
    "\n",
    "# import dataset\n",
    "df = pd.read_csv('datasets/kc_house_data.csv')\n",
    "\n",
    "\n",
    "df['query'] = df[['lat', 'long']].apply( lambda x: str( x['lat'] ) + ',' + str( x['long'] ), axis = 1 )\n",
    "\n",
    "df1 = df[['id', 'query']].sample(10)\n",
    "df.iterrows()\n",
    "\n",
    "p = Pool( 3 )\n",
    "start = time.process_time()\n",
    "df1[['place_id', 'osm_type', 'country', 'country_code']] = p.map( defs.get_data, df1.iterrows() )\n",
    "end = time.process_time()\n",
    "\n",
    "print( 'Time Elapsed: {}', end )"
   ]
  },
  {
   "cell_type": "code",
   "execution_count": 7,
   "metadata": {},
   "outputs": [
    {
     "data": {
      "text/html": [
       "<div>\n",
       "<style scoped>\n",
       "    .dataframe tbody tr th:only-of-type {\n",
       "        vertical-align: middle;\n",
       "    }\n",
       "\n",
       "    .dataframe tbody tr th {\n",
       "        vertical-align: top;\n",
       "    }\n",
       "\n",
       "    .dataframe thead th {\n",
       "        text-align: right;\n",
       "    }\n",
       "</style>\n",
       "<table border=\"1\" class=\"dataframe\">\n",
       "  <thead>\n",
       "    <tr style=\"text-align: right;\">\n",
       "      <th></th>\n",
       "      <th>id</th>\n",
       "      <th>query</th>\n",
       "      <th>place_id</th>\n",
       "      <th>osm_type</th>\n",
       "      <th>country</th>\n",
       "      <th>country_code</th>\n",
       "    </tr>\n",
       "  </thead>\n",
       "  <tbody>\n",
       "    <tr>\n",
       "      <th>7364</th>\n",
       "      <td>8647600020</td>\n",
       "      <td>47.6101,-121.955</td>\n",
       "      <td>292665637</td>\n",
       "      <td>way</td>\n",
       "      <td>United States</td>\n",
       "      <td>us</td>\n",
       "    </tr>\n",
       "    <tr>\n",
       "      <th>17320</th>\n",
       "      <td>7214800430</td>\n",
       "      <td>47.754,-122.14399999999999</td>\n",
       "      <td>292523951</td>\n",
       "      <td>way</td>\n",
       "      <td>United States</td>\n",
       "      <td>us</td>\n",
       "    </tr>\n",
       "    <tr>\n",
       "      <th>6066</th>\n",
       "      <td>8820900670</td>\n",
       "      <td>47.7175,-122.288</td>\n",
       "      <td>155521747</td>\n",
       "      <td>way</td>\n",
       "      <td>United States</td>\n",
       "      <td>us</td>\n",
       "    </tr>\n",
       "    <tr>\n",
       "      <th>6189</th>\n",
       "      <td>7308600050</td>\n",
       "      <td>47.7754,-122.17299999999999</td>\n",
       "      <td>231271811</td>\n",
       "      <td>way</td>\n",
       "      <td>United States</td>\n",
       "      <td>us</td>\n",
       "    </tr>\n",
       "    <tr>\n",
       "      <th>14844</th>\n",
       "      <td>6802200230</td>\n",
       "      <td>47.1956,-121.986</td>\n",
       "      <td>232076093</td>\n",
       "      <td>way</td>\n",
       "      <td>United States</td>\n",
       "      <td>us</td>\n",
       "    </tr>\n",
       "  </tbody>\n",
       "</table>\n",
       "</div>"
      ],
      "text/plain": [
       "               id                        query   place_id osm_type  \\\n",
       "7364   8647600020             47.6101,-121.955  292665637      way   \n",
       "17320  7214800430   47.754,-122.14399999999999  292523951      way   \n",
       "6066   8820900670             47.7175,-122.288  155521747      way   \n",
       "6189   7308600050  47.7754,-122.17299999999999  231271811      way   \n",
       "14844  6802200230             47.1956,-121.986  232076093      way   \n",
       "\n",
       "             country country_code  \n",
       "7364   United States           us  \n",
       "17320  United States           us  \n",
       "6066   United States           us  \n",
       "6189   United States           us  \n",
       "14844  United States           us  "
      ]
     },
     "execution_count": 7,
     "metadata": {},
     "output_type": "execute_result"
    }
   ],
   "source": [
    "df1.head()"
   ]
  },
  {
   "cell_type": "markdown",
   "metadata": {},
   "source": [
    "## 4. Adicione os seguinte filtros no Mapa:\n",
    "- Tamanho mínimo da área da sala de estar.\n",
    "- Número mínimo de banheiros.\n",
    "- Valor Máximo do Preço.\n",
    "- Tamanho máximo da área do porão.\n",
    "- Filtro das Condições do Imóvel.\n",
    "- Filtro por Ano de Construção."
   ]
  },
  {
   "cell_type": "code",
   "execution_count": 104,
   "metadata": {},
   "outputs": [],
   "source": [
    "#import modules\n",
    "import pandas as pd\n",
    "import ipywidgets as widgets\n",
    "from ipywidgets import fixed, interact, interactive\n",
    "from plotly import express as px"
   ]
  },
  {
   "cell_type": "code",
   "execution_count": 114,
   "metadata": {},
   "outputs": [],
   "source": [
    "# import dataset\n",
    "df = pd.read_csv('datasets/kc_house_data.csv')\n",
    "\n",
    "# create column \n",
    "df['nivel'] = df['price'].apply( lambda x: 0 if x < 321950 else\n",
    "                                           1 if ( x >= 321950 ) & ( x < 450000 ) else\n",
    "                                           2 if ( x >= 450000 ) & ( x < 645000 ) else 3 )\n",
    "df['nivel'] = df['nivel'].astype( int )\n",
    "\n",
    "df['condition_type'] = df['condition'].apply( lambda x: 'bad' if x <= 2 else\n",
    "                                                        'regular' if ( x == 3 ) | ( x == 4 ) else 'good' )\n",
    "\n",
    " # change date format                                             \n",
    "df['date'] = pd.to_datetime( df['date'] ).dt.strftime( '%Y-%m-%d')\n",
    "\n",
    "\n",
    "# widgets to control filter\n",
    "select_year = widgets.IntSlider(\n",
    "      #options = df['yr_built'].sort_values().unique().tolist(),\n",
    "      min = df['yr_built'].min(),\n",
    "      max = df['yr_built'].max(),\n",
    "      value=2014,\n",
    "      step=1,\n",
    "      description='Year of built',\n",
    "      disabled=False,\n",
    "      style = { 'description_width': 'initial' }\n",
    ")\n",
    "\n",
    "condition_house = widgets.RadioButtons(\n",
    "    options = df['condition_type'].sort_values().unique().tolist(),\n",
    "#    value='pineapple', # Defaults to 'pineapple'\n",
    "#    layout={'width': 'max-content'}, # If the items' names are long\n",
    "    description='House Condition:',\n",
    "    disabled=False,\n",
    "    style = { 'description_width': 'initial' }\n",
    ")\n",
    "\n",
    "number_bathrooms = widgets.IntSlider(\n",
    "    #options = df['bathrooms'].sort_values().unique().tolist(),\n",
    "    value= df['bathrooms'].mean(),\n",
    "    min = df['bathrooms'].min(),\n",
    "    max = df['bathrooms'].max(),\n",
    "    step = 1,\n",
    "    description='Minimum Bathroom Values',\n",
    "    disabled=False,\n",
    "    style = { 'description_width': 'initial' }\n",
    ")\n",
    "\n",
    "size_living = widgets.IntSlider(\n",
    "    #options = df['sqft_living'].sort_values().unique().tolist(),\n",
    "    value= int( df['sqft_living'].mean() ),\n",
    "    min = int( df['sqft_living'].min() ),\n",
    "    max = int( df['sqft_living'].max() ),\n",
    "    description='Minimum Living Room Size',\n",
    "    disabled=False,\n",
    "    style = { 'description_width': 'initial' }\n",
    ")\n",
    "\n",
    "size_basement = widgets.IntSlider(\n",
    "    #options = df['sqft_basement'].sort_values().unique().tolist() ,\n",
    "    value= int( df['sqft_basement'].mean() ),\n",
    "    min = int( df['sqft_basement'].min() ),\n",
    "    max = int( df['sqft_basement'].max() ),\n",
    "    description='Maximum Basement:',\n",
    "    disabled=False,\n",
    "    style = { 'description_width': 'initial' }\n",
    ")\n",
    "\n",
    "price_limit = widgets.IntSlider(\n",
    "    value = int( df['price'].mean() ),\n",
    "    min = int( df['price'].min() ),\n",
    "    max = int( df['price'].max() ),\n",
    "    step = 1,\n",
    "    description = 'Maximum Price',\n",
    "    disable = False,\n",
    "    style = { 'description_width': 'initial' }\n",
    ")\n",
    "\n",
    "def update_map( df, year, condition, bathroom, living, basement, limit ):\n",
    "    df1 = df[( df['price'] >= limit ) & ( df['yr_built'] >= year ) & ( df['condition_type'] <= condition ) & \n",
    "    ( df['bathrooms'] <= bathroom ) & ( df['sqft_living'] <= living ) & ( df['sqft_basement'] >= basement )][['id', 'lat', 'long', 'price', 'nivel']].copy()\n",
    "    \n",
    "    fig = px.scatter_mapbox( df1,\n",
    "                             lat='lat',\n",
    "                             lon='long',\n",
    "                             size='price',\n",
    "                             color = 'nivel',\n",
    "                             color_continuous_scale=px.colors.cyclical.IceFire,\n",
    "                             size_max=15,\n",
    "                             zoom=10 )\n",
    "    fig.update_layout( mapbox_style='open-street-map')\n",
    "    fig.update_layout( height=600, margin={'r':0, 't':0, 'l':0, 'b':0})\n",
    "    fig.show()                      "
   ]
  },
  {
   "cell_type": "code",
   "execution_count": 115,
   "metadata": {},
   "outputs": [
    {
     "data": {
      "application/vnd.jupyter.widget-view+json": {
       "model_id": "7359524e5a2b4cb398fdde0639b3b907",
       "version_major": 2,
       "version_minor": 0
      },
      "text/plain": [
       "interactive(children=(IntSlider(value=2014, description='Ano de Construção', max=2015, min=1900, style=SliderS…"
      ]
     },
     "metadata": {},
     "output_type": "display_data"
    },
    {
     "data": {
      "text/plain": [
       "<function __main__.update_map(df, year, condition, bathroom, living, basement, limit)>"
      ]
     },
     "execution_count": 115,
     "metadata": {},
     "output_type": "execute_result"
    }
   ],
   "source": [
    "widgets.interact( update_map, df = fixed( df ), limit = price_limit, year = select_year, condition = condition_house,\n",
    "                bathroom = number_bathrooms, living = size_living, basement = size_basement)"
   ]
  },
  {
   "cell_type": "markdown",
   "metadata": {},
   "source": [
    "## 5. Adicione os seguinte filtros no Dashboard:\n",
    "- Filtro por data disponível para compra.\n",
    "- Filtro por ano de renovação.\n",
    "- Filtro se possui vista para a água ou não.\n"
   ]
  },
  {
   "cell_type": "code",
   "execution_count": 116,
   "metadata": {},
   "outputs": [],
   "source": [
    "# import librarys\n",
    "import pandas as pd\n",
    "import ipywidgets as widgets\n",
    "from ipywidgets import fixed\n",
    "from matplotlib import gridspec\n",
    "from matplotlib import pyplot as plt"
   ]
  },
  {
   "cell_type": "code",
   "execution_count": 232,
   "metadata": {},
   "outputs": [],
   "source": [
    "# import dataset\n",
    "df = pd.read_csv('datasets/kc_house_data.csv')\n",
    "\n",
    "#create columns\n",
    "df['is_waterfront'] = df['waterfront'].apply( lambda x: 'não' if x == 0 else 'sim')\n",
    "\n",
    "\n",
    "# change date format\n",
    "df['year'] = pd.to_datetime( df['date'] ).dt.strftime( '%Y')\n",
    "df['date'] = pd.to_datetime( df['date'] ).dt.strftime( '%Y-%m-%d')\n",
    "df['year_week'] = pd.to_datetime( df['date'] ).dt.strftime( '%Y-%U')\n",
    "df['day'] = pd.to_datetime( df['date'] ).dt.strftime( '%d')\n",
    "\n",
    "\n",
    "\n",
    "# create widgets\n",
    "data_available = widgets.Select(\n",
    "    options= df['date'].sort_values().unique().tolist(),\n",
    "    value= df['date'].min(),\n",
    "    # rows=10,\n",
    "    description='Data Available for Sale',\n",
    "    disabled= False,\n",
    "    style = { 'description_width': 'initial' }\n",
    ")\n",
    "\n",
    "year_renovated = widgets.IntSlider(\n",
    "    value = int( df['yr_renovated'].mean() ),\n",
    "    min = 1934 ,\n",
    "    max = int( df['yr_renovated'].max() ),\n",
    "    step = 1,\n",
    "    description = 'Year of Renovated',\n",
    "    disable = False,\n",
    "    style = { 'description_width': 'initial' }\n",
    ")\n",
    "\n",
    "is_waterfront = widgets.RadioButtons(\n",
    "    options= df['is_waterfront'].unique().tolist(),\n",
    "#    value= 'não',\n",
    "#    layout={'width': 'max-content'}, # If the items' names are long\n",
    "    description='Waterfront:',\n",
    "    disabled=False,\n",
    "    style = { 'description_width': 'initial' }\n",
    ")\n",
    "\n",
    "def dashboard_filter( df, available, renovated, waterfront):\n",
    "    # filter df\n",
    "    df = df[(df['date'] > available) & (df['is_waterfront'] == waterfront) & ( df['yr_renovated'] >= renovated)]\n",
    "    \n",
    "    fig = plt.figure( figsize = ( 21, 12 ) )\n",
    "    specs = gridspec.GridSpec( ncols = 2, nrows = 2, figure = fig )\n",
    "    \n",
    "    ax1 = fig.add_subplot( specs[ 0, : ] ) # first rows\n",
    "    ax2 = fig.add_subplot( specs[ 1, 0 ] ) # second rows and first column\n",
    "    ax3 = fig.add_subplot( specs[ 1, 1 ] ) # second rows and second column\n",
    "    \n",
    "    #Second Graph\n",
    "    by_day = df[['id', 'yr_renovated']].groupby( 'yr_renovated' ).sum().reset_index()\n",
    "    ax1.bar( by_day['yr_renovated'], by_day['id'])\n",
    "    ax1.set_title( 'title = Year of Renovated' )\n",
    "    \n",
    "    #first Graph\n",
    "    by_year = df[['id', 'date']].groupby( 'date' ).sum().reset_index()\n",
    "    ax2.plot( by_year['date'], by_year['id'] )\n",
    "    ax2.set_title( 'title = Available for Sale' )\n",
    "    \n",
    "    #Third Graph\n",
    "    by_year_week = df[['id', 'is_waterfront']].groupby( 'is_waterfront' ).sum().reset_index()\n",
    "    ax3.bar( by_year_week['is_waterfront'], by_year_week['id'] )\n",
    "    ax3.set_title( 'title = Waterfront' )\n",
    "    plt.xticks( rotation = 90 ) ; "
   ]
  },
  {
   "cell_type": "code",
   "execution_count": 233,
   "metadata": {},
   "outputs": [
    {
     "data": {
      "application/vnd.jupyter.widget-view+json": {
       "model_id": "e15c8f2c96b74d4e883c267fb4f345fb",
       "version_major": 2,
       "version_minor": 0
      },
      "text/plain": [
       "interactive(children=(Select(description='Data Available for Sale', options=('2014-05-02', '2014-05-03', '2014…"
      ]
     },
     "metadata": {},
     "output_type": "display_data"
    },
    {
     "data": {
      "text/plain": [
       "<function __main__.dashboard_filter(df, available, renovated, waterfront)>"
      ]
     },
     "execution_count": 233,
     "metadata": {},
     "output_type": "execute_result"
    }
   ],
   "source": [
    "widgets.interact( dashboard_filter, df = fixed( df ), available = data_available, renovated = year_renovated, waterfront = is_waterfront  )"
   ]
  },
  {
   "cell_type": "code",
   "execution_count": null,
   "metadata": {},
   "outputs": [],
   "source": []
  },
  {
   "cell_type": "code",
   "execution_count": null,
   "metadata": {},
   "outputs": [],
   "source": []
  },
  {
   "cell_type": "code",
   "execution_count": null,
   "metadata": {},
   "outputs": [],
   "source": []
  }
 ],
 "metadata": {
  "kernelspec": {
   "display_name": "Python 3",
   "language": "python",
   "name": "python3"
  },
  "language_info": {
   "codemirror_mode": {
    "name": "ipython",
    "version": 3
   },
   "file_extension": ".py",
   "mimetype": "text/x-python",
   "name": "python",
   "nbconvert_exporter": "python",
   "pygments_lexer": "ipython3",
   "version": "3.8.5"
  }
 },
 "nbformat": 4,
 "nbformat_minor": 4
}
